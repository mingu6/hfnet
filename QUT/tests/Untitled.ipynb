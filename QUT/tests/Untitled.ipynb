{
 "cells": [
  {
   "cell_type": "code",
   "execution_count": 1,
   "metadata": {},
   "outputs": [
    {
     "ename": "TypeError",
     "evalue": "__init__() got an unexpected keyword argument 'right'",
     "output_type": "error",
     "traceback": [
      "\u001b[0;31m---------------------------------------------------------------------------\u001b[0m",
      "\u001b[0;31mTypeError\u001b[0m                                 Traceback (most recent call last)",
      "\u001b[0;32m<ipython-input-1-d4ed408c0c25>\u001b[0m in \u001b[0;36m<module>\u001b[0;34m\u001b[0m\n\u001b[1;32m     31\u001b[0m     \u001b[0mcamName\u001b[0m \u001b[0;34m=\u001b[0m \u001b[0mfname\u001b[0m\u001b[0;34m[\u001b[0m\u001b[0;34m:\u001b[0m\u001b[0;34m-\u001b[0m\u001b[0;36m10\u001b[0m\u001b[0;34m]\u001b[0m\u001b[0;34m\u001b[0m\u001b[0;34m\u001b[0m\u001b[0m\n\u001b[1;32m     32\u001b[0m     \u001b[0mref_camera_poses\u001b[0m\u001b[0;34m[\u001b[0m\u001b[0mcamName\u001b[0m\u001b[0;34m]\u001b[0m \u001b[0;34m=\u001b[0m \u001b[0mposes_df\u001b[0m\u001b[0;34m\u001b[0m\u001b[0;34m\u001b[0m\u001b[0m\n\u001b[0;32m---> 33\u001b[0;31m \u001b[0mreference\u001b[0m \u001b[0;34m=\u001b[0m \u001b[0mTraverse\u001b[0m\u001b[0;34m(\u001b[0m\u001b[0mref_traverse\u001b[0m\u001b[0;34m,\u001b[0m \u001b[0;34m**\u001b[0m\u001b[0mref_camera_poses\u001b[0m\u001b[0;34m)\u001b[0m\u001b[0;34m\u001b[0m\u001b[0;34m\u001b[0m\u001b[0m\n\u001b[0m\u001b[1;32m     34\u001b[0m \u001b[0;34m\u001b[0m\u001b[0m\n\u001b[1;32m     35\u001b[0m \u001b[0;31m# load query traverse poses into traverse object\u001b[0m\u001b[0;34m\u001b[0m\u001b[0;34m\u001b[0m\u001b[0;34m\u001b[0m\u001b[0m\n",
      "\u001b[0;31mTypeError\u001b[0m: __init__() got an unexpected keyword argument 'right'"
     ]
    }
   ],
   "source": [
    "import os\n",
    "\n",
    "import numpy as np\n",
    "%matplotlib notebook\n",
    "import matplotlib.pyplot as plt\n",
    "import matplotlib.image as mpimg\n",
    "import pandas as pd\n",
    "\n",
    "from QUT.util.Traverse import Traverse\n",
    "from QUT.util import geometry\n",
    "from hfnet.settings import DATA_PATH\n",
    "\n",
    "#### Traverses to test ####\n",
    "\n",
    "ref_traverse = 'overcast-reference'\n",
    "query_traverse = 'night'\n",
    "\n",
    "#### Parameters ####\n",
    "\n",
    "alpha = 5\n",
    "\n",
    "####################\n",
    "\n",
    "ref_gps_dir = os.path.join(DATA_PATH, 'robotcar/gps', ref_traverse)\n",
    "query_gps_dir = os.path.join(DATA_PATH, 'robotcar/gps', query_traverse)\n",
    "\n",
    "# load reference traverse poses into traverse object\n",
    "ref_camera_poses = {}\n",
    "for fname in os.listdir(ref_gps_dir):\n",
    "    poses_df = pd.read_csv(os.path.join(ref_gps_dir, fname))\n",
    "    camName = fname[:-10]\n",
    "    ref_camera_poses[camName] = poses_df\n",
    "reference = Traverse(ref_traverse, **ref_camera_poses)\n",
    "\n",
    "# load query traverse poses into traverse object\n",
    "query_camera_poses = {}\n",
    "for fname in os.listdir(query_gps_dir):\n",
    "    poses_df = pd.read_csv(os.path.join(query_gps_dir, fname))\n",
    "    camName = fname[:-10]\n",
    "    query_camera_poses[camName] = poses_df\n",
    "query = Traverse(query_traverse, **query_camera_poses)\n"
   ]
  }
 ],
 "metadata": {
  "kernelspec": {
   "display_name": "hfnet",
   "language": "python",
   "name": "hfnet"
  },
  "language_info": {
   "codemirror_mode": {
    "name": "ipython",
    "version": 3
   },
   "file_extension": ".py",
   "mimetype": "text/x-python",
   "name": "python",
   "nbconvert_exporter": "python",
   "pygments_lexer": "ipython3",
   "version": "3.6.10"
  }
 },
 "nbformat": 4,
 "nbformat_minor": 4
}
